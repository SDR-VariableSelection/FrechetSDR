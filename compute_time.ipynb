{
 "cells": [
  {
   "cell_type": "code",
   "execution_count": 62,
   "metadata": {},
   "outputs": [
    {
     "data": {
      "text/plain": [
       "'\\nFrechet Sufficient Dimension Reduction\\nGraphical Weighted Inverse Regression Ensemble\\nExample 1 and 2: response Y is distribution or on the sphere. \\n'"
      ]
     },
     "execution_count": 62,
     "metadata": {},
     "output_type": "execute_result"
    }
   ],
   "source": [
    "\"\"\"\n",
    "Frechet Sufficient Dimension Reduction\n",
    "Graphical Weighted Inverse Regression Ensemble\n",
    "Example 1 and 2: response Y is distribution or on the sphere. \n",
    "\"\"\""
   ]
  },
  {
   "cell_type": "code",
   "execution_count": 63,
   "metadata": {},
   "outputs": [],
   "source": [
    "# packages\n",
    "import numpy as np\n",
    "import scipy.linalg as la\n",
    "from scipy.linalg import norm\n",
    "from scipy.linalg import sqrtm\n",
    "from scipy import stats\n",
    "from lib_fun import *"
   ]
  },
  {
   "cell_type": "code",
   "execution_count": 64,
   "metadata": {},
   "outputs": [],
   "source": [
    "## problem setting\n",
    "# 1. seedid = 1-100\n",
    "# 2. EX=1 for example 1 (Table 1); EX=2 for example 2 (Table 2)\n",
    "# 3. covstruc = 1 or 2 to produce Table 3\n",
    "# 4. neigh = False to produce Table 5\n",
    "# 5. Table 4 is based on partial results.\n",
    "n,p,seedid = 700,3000,123\n",
    "EX = 2 # or 2\n",
    "neigh = True # or False\n",
    "covstruc = 1 # or 2\n",
    "\n",
    "#%% Generate Data\n",
    "s = 10\n",
    "index = range(s)\n",
    "groupno = 5\n",
    "nog = 5\n",
    "\n",
    "rng = np.random.RandomState(seedid)\n",
    "# true covariance matrix \n",
    "covx = np.eye(p)\n",
    "covx[:groupno*nog,:groupno*nog] = np.kron(np.eye(nog), np.ones((groupno, groupno)) + .16*np.eye(groupno))\n",
    "omega = la.inv(covx)\n",
    "if covstruc == 2:\n",
    "    omega[4,5] = 0.1\n",
    "    omega[5,4] = 0.1\n",
    "    omega[9,10] = 0.1\n",
    "    omega[10,9] = 0.1\n",
    "covx = la.inv(omega)\n",
    "X = rng.multivariate_normal(np.zeros(p), covx, size = n)\n",
    "sigma = np.cov(X.T)\n",
    "## Neighborhood \n",
    "if not neigh:\n",
    "    # Neighborhood is unknown\n",
    "    # Friedman et al, “Sparse inverse covariance estimation with the graphical lasso”, Biostatistics 9, pp 432, 2008\n",
    "    from sklearn.covariance import GraphicalLassoCV, ledoit_wolf\n",
    "    model = GraphicalLassoCV()\n",
    "    model.fit(X)\n",
    "    print(model.alpha_)\n",
    "    omega = model.precision_\n",
    "    np.where(np.sum(omega!=0, axis = 1) > 1)[0]\n",
    "\n",
    "Nb = []\n",
    "for i in range(p):\n",
    "    Ni = (np.nonzero(omega[i,:])[0]).tolist() #np.nonzero(ome[i,:])[0]\n",
    "    Nb.append(Ni)\n",
    "\n",
    "if EX == 1:\n",
    "    d = 1\n",
    "    L = 1000\n",
    "    beta = np.zeros((p,d))\n",
    "    beta[:10,0] = 1\n",
    "    mu = (X @ beta[:,0])\n",
    "    y = np.zeros((n, L-1))\n",
    "    meanshift = np.zeros(n)\n",
    "    for i in range(n):\n",
    "        meanshift[i] = 0.1* np.random.randn(1) + mu[i]\n",
    "        for j in range(L-1):\n",
    "            y[i,j] = meanshift[i] + 1* stats.norm.ppf((j+1)/L)\n",
    "    beta_true = beta @ sqrtm(la.inv(beta.T @ beta)) # normalize wrt identity\n",
    "    metric = \"Wasserstein\"\n",
    "elif EX == 2:\n",
    "    d = 2\n",
    "    beta = np.zeros((p,d))\n",
    "    beta[index[:groupno], 0] = 1\n",
    "    beta[index[groupno:], 1] = 1\n",
    "    beta_true = beta @ sqrtm(la.inv(beta.T @ beta))\n",
    "    y = np.zeros((n, 4))\n",
    "    u = np.random.randn(n) * 0.1\n",
    "    v = 0.2\n",
    "    a1 = np.sin(v * (X+1) @ beta[:,0])\n",
    "    a2 = np.cos(v * (X+1) @ beta[:,0])\n",
    "    b1 = np.sin(v * (X+1) @ beta[:,1])\n",
    "    b2 = np.cos(v * (X+1) @ beta[:,1])\n",
    "    y[:,0] = np.cos(u) * a1 * b1\n",
    "    y[:,1] = np.cos(u) * a1 * b2\n",
    "    y[:,2] = np.cos(u) * a2\n",
    "    y[:,3] = np.sin(u)                   \n",
    "    metric = \"Geodesic\"\n",
    "M = wire(X,y,metric)"
   ]
  },
  {
   "cell_type": "code",
   "execution_count": 65,
   "metadata": {},
   "outputs": [
    {
     "name": "stdout",
     "output_type": "stream",
     "text": [
      "The line_profiler extension is already loaded. To reload it, use:\n",
      "  %reload_ext line_profiler\n"
     ]
    }
   ],
   "source": [
    "%load_ext line_profiler"
   ]
  },
  {
   "cell_type": "code",
   "execution_count": 66,
   "metadata": {},
   "outputs": [
    {
     "name": "stdout",
     "output_type": "stream",
     "text": [
      "Timer unit: 1e-09 s\n",
      "\n",
      "Total time: 131.793 s\n",
      "File: /Users/jweng/Library/CloudStorage/OneDrive-BentleyUniversity/Research-projects/2_GraphicalSIR/codes/lib_fun.py\n",
      "Function: gwire at line 40\n",
      "\n",
      "Line #      Hits         Time  Per Hit   % Time  Line Contents\n",
      "==============================================================\n",
      "    40                                           def gwire(sigma, M, Nb, lam, weight= None, max_iter=100):\n",
      "    41                                               \"\"\"solve GWIRE using ADMM for given lambda\n",
      "    42                                               INPUT\n",
      "    43                                               sigma: sample covariance matrix p by p\n",
      "    44                                               M: sample kernel matrix\n",
      "    45                                               Nb: neighborhood information\n",
      "    46                                               lam: penalty parameter\n",
      "    47                                               weight: optional weight for each component of penalty term\n",
      "    48                                               max_iter: optional maximum iteration number \n",
      "    49                                               OUTPUT\n",
      "    50                                               B: estimated p by p matrix (sigma^{-1}Msigma^{-1})\n",
      "    51                                               \"\"\"\n",
      "    52         1      24000.0  24000.0      0.0      p = sigma.shape[0]\n",
      "    53         1       2000.0   2000.0      0.0      rho = 1\n",
      "    54         1 1131298000.0    1e+09      0.9      D, P = eigh(sigma)\n",
      "    55         1    4490000.0    4e+06      0.0      C1 = np.outer(D,D)\n",
      "    56         1    5984000.0    6e+06      0.0      C = C1/(C1 + rho)\n",
      "    57                                               # default ADMM paramter \n",
      "    58         1       2000.0   2000.0      0.0      if weight is None:\n",
      "    59         1      68000.0  68000.0      0.0          weight = np.ones(p) \n",
      "    60         1          0.0      0.0      0.0      rho = 1\n",
      "    61                                               \n",
      "    62                                               # ADMM: initial values\n",
      "    63         1    1363000.0    1e+06      0.0      W = np.zeros((p,p))\n",
      "    64         1      24000.0  24000.0      0.0      sumV = np.zeros((p,p))\n",
      "    65                                               \n",
      "    66         1     478000.0 478000.0      0.0      nblen = [len(Nb[i])>1 for i in range(len(Nb))]\n",
      "    67         1     143000.0 143000.0      0.0      group1 = np.where( np.array(nblen) )[0]\n",
      "    68         1     493000.0 493000.0      0.0      group2 = np.setdiff1d(range(len(Nb)), group1)\n",
      "    69         1     437000.0 437000.0      0.0      Nbeq1 = [Nb[i][0] for i in group2]\n",
      "    70         1   18916000.0    2e+07      0.0      V = [np.zeros((len(Nb[i]), p)) for i in range(p)]\n",
      "    71                                           \n",
      "    72       101     237000.0   2346.5      0.0      for ite in range(max_iter):\n",
      "    73                                                   # print(ite)\n",
      "    74                                                   # update B # using V_old, W_old\n",
      "    75       100 2166870000.0    2e+07      1.6          L = M/rho - W + (sumV + sumV.T)/2   \n",
      "    76       100        1e+11    1e+09     93.7          B = L - P @ (C * (P.T @ L @ P)) @ P.T\n",
      "    77                                                   # assert np.allclose(B, B.T)\n",
      "    78                                                   # update V  # using V_old, B_new, W_old\n",
      "    79      2600    2665000.0   1025.0      0.0          for i in group1:\n",
      "    80      2500    1385000.0    554.0      0.0              Ni = Nb[i]\n",
      "    81                                                       # print(Ni)\n",
      "    82      2500   99668000.0  39867.2      0.1              Square_Ni = B[Ni,:] + W[Ni,:] - sumV[Ni,:] + V[i]\n",
      "    83      2500  202019000.0  80807.6      0.2              if norm(Square_Ni)>0:\n",
      "    84      2500  198631000.0  79452.4      0.2                  new = max(1 - lam*weight[i]/(rho * norm(Square_Ni)), 0) * Square_Ni\n",
      "    85                                                       else:\n",
      "    86                                                           new = np.zeros((len(Ni), p))\n",
      "    87      2500   65229000.0  26091.6      0.0              sumV[Ni,:] = sumV[Ni,:] - V[i] + new\n",
      "    88      2500    1956000.0    782.4      0.0              V[i] = new\n",
      "    89                                                       # temp[Ni,:] += new\n",
      "    90                                           \n",
      "    91       100  643367000.0    6e+06      0.5          vs = B[Nbeq1,:] + W[Nbeq1,:]\n",
      "    92       100  541771000.0    5e+06      0.4          a = np.maximum(1 - lam*weight[Nbeq1]/(rho * norm(vs, axis = 1)), 0)\n",
      "    93       100  512861000.0    5e+06      0.4          sumV[Nbeq1,:] = (a * vs.T).T\n",
      "    94                                           \n",
      "    95                                                   # update W # using B_new, V_new\n",
      "    96       100 2099511000.0    2e+07      1.6          W = W + B - (sumV + sumV.T)/2\n",
      "    97       100  512082000.0    5e+06      0.4          if norm(sumV-B, 'fro') < 1e-5:\n",
      "    98                                                       # print('converged at', ite, 'iterations')\n",
      "    99                                                       break\n",
      "   100                                               \n",
      "   101         1    4846000.0    5e+06      0.0      ind0 = np.where(norm(sumV, axis=1)==0)[0]\n",
      "   102         1   13738000.0    1e+07      0.0      sumV[:,ind0] = 0\n",
      "   103         1   17753000.0    2e+07      0.0      B = (sumV + sumV.T)/2\n",
      "   104         1       1000.0   1000.0      0.0      return B"
     ]
    }
   ],
   "source": [
    "%lprun -f gwire gwire(sigma, M, Nb, lam=0.6, weight= None, max_iter=100)"
   ]
  },
  {
   "cell_type": "code",
   "execution_count": 67,
   "metadata": {},
   "outputs": [
    {
     "name": "stdout",
     "output_type": "stream",
     "text": [
      "Timer unit: 1e-09 s\n",
      "\n",
      "Total time: 3.69278 s\n",
      "File: /Users/jweng/Library/CloudStorage/OneDrive-BentleyUniversity/Research-projects/2_GraphicalSIR/codes/lib_fun.py\n",
      "Function: swire at line 250\n",
      "\n",
      "Line #      Hits         Time  Per Hit   % Time  Line Contents\n",
      "==============================================================\n",
      "   250                                           def swire(sigma, M, d, lam, max_iter=100):\n",
      "   251                                               \"\"\"solve SWIRE-I using ISTA for given lambda\n",
      "   252                                               INPUT\n",
      "   253                                               sigma: sample covariance matrix p by p\n",
      "   254                                               M: sample kernel matrix\n",
      "   255                                               lam: penalty parameter\n",
      "   256                                               max_iter: optional maximum iteration number \n",
      "   257                                               OUTPUT\n",
      "   258                                               beta_hat: estimated p by d matrix\n",
      "   259                                               \"\"\"\n",
      "   260         1       5000.0   5000.0      0.0      p = sigma.shape[1]\n",
      "   261                                           \n",
      "   262                                               # ISTA algorithm \n",
      "   263         1 3049961000.0    3e+09     82.6      t = norm(sigma, 2) ** (-2)\n",
      "   264         1    1315000.0    1e+06      0.0      B = np.zeros((p,p))\n",
      "   265         1       6000.0   6000.0      0.0      for i in range(max_iter):\n",
      "   266                                                   # print(i)\n",
      "   267         1          0.0      0.0      0.0          B_old = B\n",
      "   268         1  590407000.0    6e+08     16.0          temp = B - t * (sigma @ B @ sigma - M)\n",
      "   269         1   44147000.0    4e+07      1.2          B = soft_thresholding(temp, lam * t)\n",
      "   270                                                   # w = np.maximum(1 - lam * t / norm(temp, axis = 1), 0)\n",
      "   271                                                   # B = (w * temp.T).T\n",
      "   272         1    4862000.0    5e+06      0.1          if norm(B_old-B, 'fro') < 1e-5:\n",
      "   273                                                       # print('converged at', ite, 'iterations')\n",
      "   274         1       1000.0   1000.0      0.0              break\n",
      "   275                                           \n",
      "   276                                               # left singular vectors for B\n",
      "   277         1      11000.0  11000.0      0.0      beta_hat = np.zeros((p,d))\n",
      "   278         1    2067000.0    2e+06      0.1      if norm(B, 'fro') >0:\n",
      "   279                                                   supp_B = np.nonzero(norm(B, axis=1))[0].tolist()\n",
      "   280                                                   s = len(supp_B)\n",
      "   281                                                   if len(supp_B) >= d: # take submatrix\n",
      "   282                                                       B_sub = B[np.ix_(supp_B,supp_B)]\n",
      "   283                                                       _, U = eigh(B_sub, subset_by_index=(s-d, s-1))\n",
      "   284                                                       beta_hat[supp_B,:] = U\n",
      "   285                                                   else: # use full matrix\n",
      "   286                                                       _, U = eigh(B, subset_by_index=(p-d, p-1))\n",
      "   287                                                       beta_hat = U\n",
      "   288                                               # else:\n",
      "   289                                               #     beta_hat = np.zeros((p,d))\n",
      "   290         1          0.0      0.0      0.0      return beta_hat"
     ]
    }
   ],
   "source": [
    "%lprun -f swire swire(sigma, M, d, lam=0.6, max_iter=100)"
   ]
  },
  {
   "cell_type": "code",
   "execution_count": 68,
   "metadata": {},
   "outputs": [
    {
     "name": "stdout",
     "output_type": "stream",
     "text": [
      "Timer unit: 1e-09 s\n",
      "\n",
      "Total time: 65.7788 s\n",
      "File: /Users/jweng/Library/CloudStorage/OneDrive-BentleyUniversity/Research-projects/2_GraphicalSIR/codes/lib_fun.py\n",
      "Function: bwire at line 344\n",
      "\n",
      "Line #      Hits         Time  Per Hit   % Time  Line Contents\n",
      "==============================================================\n",
      "   344                                           def bwire(sigma, M, d, lam, max_iter=100):\n",
      "   345                                               \"\"\"solve SWIRE-II using ISTA for given lambda\n",
      "   346                                               INPUT\n",
      "   347                                               sigma: sample covariance matrix p by p\n",
      "   348                                               M: sample kernel matrix\n",
      "   349                                               lam: penalty parameter\n",
      "   350                                               max_iter: optional maximum iteration number \n",
      "   351                                               OUTPUT\n",
      "   352                                               beta_hat: estimated p by d matrix\n",
      "   353                                               \"\"\"\n",
      "   354         1       4000.0   4000.0      0.0      p = sigma.shape[1]\n",
      "   355                                           \n",
      "   356                                               # ISTA algorithm \n",
      "   357         1 2995242000.0    3e+09      4.6      t = norm(sigma, 2) ** (-2)\n",
      "   358         1    1228000.0    1e+06      0.0      B = np.zeros((p,p))\n",
      "   359       101     244000.0   2415.8      0.0      for i in range(max_iter):\n",
      "   360                                                   # print(i)\n",
      "   361       100     316000.0   3160.0      0.0          B_old = B\n",
      "   362       100        6e+10    6e+08     93.5          temp = B - t * (sigma @ B @ sigma - M)\n",
      "   363                                           #         B = soft_thresholding(temp, lam * t)\n",
      "   364       100  494529000.0    5e+06      0.8          w = np.maximum(1 - lam * t / norm(temp, axis = 1), 0)\n",
      "   365       100  278834000.0    3e+06      0.4          B = (w * temp.T).T\n",
      "   366       100  504006000.0    5e+06      0.8          if norm(B_old-B, 'fro') < 1e-5:\n",
      "   367                                                       # print('converged at', ite, 'iterations')\n",
      "   368                                                       break\n",
      "   369                                           \n",
      "   370                                               # left singular vectors for B\n",
      "   371         1      11000.0  11000.0      0.0      beta_hat = np.zeros((p,d))\n",
      "   372         1    2061000.0    2e+06      0.0      if norm(B, 'fro') >0:\n",
      "   373         1    4839000.0    5e+06      0.0          supp_B = np.nonzero(norm(B, axis=1))[0].tolist()\n",
      "   374         1       1000.0   1000.0      0.0          s = len(supp_B)\n",
      "   375         1       1000.0   1000.0      0.0          if len(supp_B) >= d: # take submatrix\n",
      "   376         1     122000.0 122000.0      0.0              B_sub = B[np.ix_(supp_B,supp_B)]\n",
      "   377         1     334000.0 334000.0      0.0              _, U = eigh(B_sub, subset_by_index=(s-d, s-1))\n",
      "   378         1      11000.0  11000.0      0.0              beta_hat[supp_B,:] = U\n",
      "   379                                                   else: # use full matrix\n",
      "   380                                                       _, U = eigh(B, subset_by_index=(p-d, p-1))\n",
      "   381                                                       beta_hat = U\n",
      "   382                                               # else:\n",
      "   383                                               #     beta_hat = np.zeros((p,d))\n",
      "   384         1          0.0      0.0      0.0      return beta_hat"
     ]
    }
   ],
   "source": [
    "%lprun -f bwire bwire(sigma, M, d, lam=0.6, max_iter=100)"
   ]
  },
  {
   "cell_type": "code",
   "execution_count": 69,
   "metadata": {},
   "outputs": [],
   "source": [
    "# %lprun -f gwire_cv gwire_cv(X, y, Nb, metric, d, fold=5)"
   ]
  },
  {
   "cell_type": "code",
   "execution_count": 70,
   "metadata": {},
   "outputs": [],
   "source": [
    "# %lprun -f swire_cv swire_cv(X, y, metric, d, fold=5)"
   ]
  },
  {
   "cell_type": "code",
   "execution_count": 71,
   "metadata": {},
   "outputs": [],
   "source": [
    "# %lprun -f bwire_cv bwire_cv(X, y, metric, d, fold=5)"
   ]
  },
  {
   "cell_type": "code",
   "execution_count": 72,
   "metadata": {},
   "outputs": [],
   "source": [
    "# import time\n",
    "# start = time.time()\n",
    "# # d_est = gwire_d(X, y, metric, Nb)\n",
    "# # print('estimated structure dimension:',d_est)\n",
    "# beta_gwire, _ = gwire_cv(X, y, Nb, metric, d, fold=5)\n",
    "# supp = np.nonzero(norm(beta_true, axis=1))[0].tolist()\n",
    "# supp_hat = np.nonzero(norm(beta_gwire, axis=1))[0].tolist()\n",
    "# print(supp, supp_hat)\n",
    "# print('support recovery:', np.all(supp_hat == supp))\n",
    "# print('gwire loss:', norm(beta_gwire @ beta_gwire.T - beta_true @ beta_true.T))\n",
    "# end = time.time()\n",
    "# print('time used:n,p =', n, p, 'is', np.round(end - start,1))"
   ]
  },
  {
   "cell_type": "code",
   "execution_count": 73,
   "metadata": {},
   "outputs": [],
   "source": [
    "# start = time.time()\n",
    "# beta_swire = swire_cv(X, y, metric, d, fold=5)\n",
    "# supp_hat = np.nonzero(norm(beta_swire, axis=1))[0].tolist()\n",
    "# print(supp, supp_hat)\n",
    "# print('support recovery:', np.all(supp_hat == supp))\n",
    "# print('swire loss:', norm(beta_swire @ beta_swire.T - beta_true @ beta_true.T))\n",
    "# end = time.time()\n",
    "# print('time used:n,p =', n, p, 'is', np.round(end - start,1))"
   ]
  },
  {
   "cell_type": "code",
   "execution_count": 74,
   "metadata": {},
   "outputs": [],
   "source": [
    "# start = time.time()\n",
    "# beta_bwire = bwire_cv(X, y, metric, d, fold=5)\n",
    "# supp_hat = np.nonzero(norm(beta_bwire, axis=1))[0].tolist()\n",
    "# print(supp, supp_hat)\n",
    "# print('support recovery:', np.all(supp_hat == supp))\n",
    "# print('swire loss:', norm(beta_bwire @ beta_bwire.T - beta_true @ beta_true.T))\n",
    "# end = time.time()\n",
    "# print('time used:n,p =', n, p, 'is', np.round(end - start,1))"
   ]
  },
  {
   "cell_type": "code",
   "execution_count": 75,
   "metadata": {},
   "outputs": [],
   "source": [
    "# import pandas as pd\n",
    "# critable = pd.DataFrame()\n",
    "# critable.loc[0,\"seedid\"] = seedid\n",
    "# out1 = loss(beta_true, beta_gwire)\n",
    "# critable.loc[0,\"d-est\"] = d_est\n",
    "# critable.loc[0,\"gwire-GeneralLoss\"] = out1[0]\n",
    "# critable.loc[0,\"gwire-correct\"]= out1[1]\n",
    "# critable.loc[0,\"gwire-false_positive\"] = out1[2]\n",
    "# critable.loc[0,\"gwire-false_negative\"] = out1[3]\n",
    "# out2 = loss(beta_true, beta_swire)\n",
    "# critable.loc[0,\"swireI-GeneralLoss\"] = out2[0]\n",
    "# critable.loc[0,\"swireI-correct\"]= out2[1]\n",
    "# critable.loc[0,\"swireI-false_positive\"] = out2[2]\n",
    "# critable.loc[0,\"swireI-false_negative\"] = out2[3]\n",
    "# out3 = loss(beta_true, beta_bwire)\n",
    "# critable.loc[0,\"swireII-GeneralLoss\"] = out3[0]\n",
    "# critable.loc[0,\"swireII-correct\"]= out3[1]\n",
    "# critable.loc[0,\"swireII-false_positive\"] = out3[2]\n",
    "# critable.loc[0,\"swireII-false_negative\"] = out3[3]\n",
    "# print(critable)\n",
    "# %%\n",
    "# t = time.strftime(\"%y%m%d\")\n",
    "# fname = f'Density_n{n}_p{p}_d{d}_s{s}_sigma1_{t}.csv'\n",
    "# print(fname)\n",
    "# import os\n",
    "# if os.path.exists(fname):\n",
    "#     original = pd.read_csv(fname)\n",
    "#     critable = pd.concat([original,critable])\n",
    "# critable.to_csv(fname,index=False)\n"
   ]
  }
 ],
 "metadata": {
  "kernelspec": {
   "display_name": "base",
   "language": "python",
   "name": "python3"
  },
  "language_info": {
   "codemirror_mode": {
    "name": "ipython",
    "version": 3
   },
   "file_extension": ".py",
   "mimetype": "text/x-python",
   "name": "python",
   "nbconvert_exporter": "python",
   "pygments_lexer": "ipython3",
   "version": "3.9.13"
  }
 },
 "nbformat": 4,
 "nbformat_minor": 2
}
